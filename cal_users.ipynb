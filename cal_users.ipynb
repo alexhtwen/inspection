{
 "cells": [
  {
   "cell_type": "markdown",
   "metadata": {},
   "source": [
    "<div style=\"font-family: 'Gen Jyuu Gothic Monospace Medium', 'Noto Sans TC', 'Inconsolata'; font-size: 450%; font-weight: 800; text-align: center; color: #FFA3D0;\">\n",
    "明察秋毫，亦見輿薪\n",
    "</div>\n",
    "<div style=\"font-family: 'Ubuntu Mono'; font-size: 300%; font-weight: 800; text-align: center;color: #A3FFD2\">\n",
    "<br>\n",
    "Python's \"inspect\" module\n",
    "</div>\n",
    "<br><br><br>\n",
    "\n",
    "<div style=\"font-family: 'Ubuntu Mono'; font-size: 120%; font-weight: 800; text-left: center;color: #A3FFD2\">\n",
    "\n",
    "[Class Methods](https://ithelp.ithome.com.tw/articles/10301963)\n",
    "\n",
    "[To Self, or Not To Self: That Is the Question](https://ithelp.ithome.com.tw/articles/10302479)\n",
    "\n",
    "[大觀園的妙玉：Static Methods](https://ithelp.ithome.com.tw/articles/10303123)\n",
    "</div><br><br>"
   ]
  },
  {
   "cell_type": "code",
   "execution_count": null,
   "metadata": {},
   "outputs": [],
   "source": [
    "%%javascript\n",
    "// 設定output文字顏色\n",
    "document.styleSheets[0].addRule('body', 'color: #FFA3D0 !important;')"
   ]
  },
  {
   "cell_type": "code",
   "execution_count": null,
   "metadata": {},
   "outputs": [],
   "source": [
    "from tools import say\n",
    "\n",
    "print('Scribo, ergo sum.')   # 我code故我在\n",
    "print('Sum, ergo scribo.')   # 我在故我code"
   ]
  },
  {
   "cell_type": "markdown",
   "metadata": {},
   "source": [
    "<div style=\"font-family: 'Inconsolata'; font-size: 250%;  font-weight: 600;color: #FFA3D0;\">\n",
    "從一個簡單的Calculator說起\n",
    "</div>\n",
    "<br>\n",
    "<div style=\"font-family: 'Inconsolata'; font-size: 130%; color: #C5DAEB; line-height: 1.2;\">\n",
    "\n",
    "* 這個計算機目前只能計算「<span style=\"color: gold; font-weight: 600;\">正整數</span>」的`+`, `-`, `*`, `/`四種運算。\n",
    "* 我們的討論焦點集中在：如何依據傳入的加減乘除四個operators選擇正確的運算方法？\n",
    "* 最直觀的解法，或許是類似下面的code，用多個if/elif或match/case：\n",
    "    \n",
    "    <div style=\"font-size: 85%;\">\n",
    "\n",
    "    ```\n",
    "    match operator:\n",
    "        case '+':\n",
    "            result = add(operand1, operand2)\n",
    "        case '-':\n",
    "            result = subtract(operand1, operand2)\n",
    "        case '*':\n",
    "            result = multiply(operand1, operand2)\n",
    "        case '/':\n",
    "            result = divide(operand1, operand2)\n",
    "    ```\n",
    "    </div>\n",
    "</div>\n"
   ]
  },
  {
   "cell_type": "code",
   "execution_count": null,
   "metadata": {},
   "outputs": [],
   "source": [
    "# 介面開發者(junior developers)的code\n",
    "import random as rd\n",
    "\n",
    "from tools import say\n",
    "from cal_config import LO, HI, COUNT\n",
    "from calculator_1 import Calculator   # 簡單直覺，但需求擴增時須改寫\n",
    "\n",
    "def compute():\n",
    "    OPERATORS = ('+', '/')  # , '*', '/')\n",
    "    cal = Calculator()\n",
    "    for _ in range(COUNT):\n",
    "        expression = f'{rd.randint(LO, HI+1)} {rd.choice(OPERATORS)} {rd.randint(LO, HI+1)}'\n",
    "        say(expression, cal.calculate(expression))\n"
   ]
  },
  {
   "cell_type": "code",
   "execution_count": null,
   "metadata": {},
   "outputs": [],
   "source": [
    "# 使用者\n",
    "compute()"
   ]
  },
  {
   "cell_type": "markdown",
   "metadata": {},
   "source": [
    "<div style=\"font-family: 'Inconsolata'; font-size: 130%; color: #C5DAEB; line-height: 1.2;\">\n",
    "\n",
    "* 這種寫法可以能夠滿足當下需求。\n",
    "* 然而，如果日後要擴充這個Calculator的功能，例如想加入`//`, `**`，除了修訂operations.py外，還得改寫calculate()方法：\n",
    "    <!-- <div style=\"font-size: 85%;\"> -->\n",
    "\n",
    "<div style=\"text-align:left\"><img src=\"https://hackmd.io/_uploads/S1DGVY8cR.png\" width=\"600\"/></div>\n"
   ]
  },
  {
   "cell_type": "code",
   "execution_count": null,
   "metadata": {},
   "outputs": [],
   "source": [
    "import random as rd\n",
    "\n",
    "from tools import say\n",
    "from cal_config import LO, HI, COUNT\n",
    "from calculator_2 import Calculator   # 簡單直覺，但需求擴增時須改寫\n",
    "\n",
    "def compute():\n",
    "    OPERATORS = ('+', '-', '*', '/', '//', '**')\n",
    "    cal = Calculator()\n",
    "    for _ in range(COUNT):\n",
    "        expression = f'{rd.randint(LO, HI+1)} {rd.choice(OPERATORS)} {rd.randint(LO, HI+1)}'\n",
    "        say(expression, cal.calculate(expression))\n",
    "\n",
    "compute()"
   ]
  },
  {
   "cell_type": "markdown",
   "metadata": {},
   "source": [
    "<div style=\"font-family: 'Inconsolata'; font-size: 130%; color: #C5DAEB; line-height: 1.2;\">\n",
    "\n",
    "* 每次擴充就得改code。\n",
    "* Q: 有沒有辦法在擴充時讓Calculator()方法不必改code呢？\n",
    "*    請記住：改code是具「風險」的。\n",
    "</div>"
   ]
  },
  {
   "cell_type": "markdown",
   "metadata": {},
   "source": [
    "<div style=\"font-family: 'Inconsolata'; font-size: 130%; color: #C5DAEB; line-height: 1.2;\">\n",
    "\n",
    "* A0: eval()\n",
    "</div>"
   ]
  },
  {
   "cell_type": "code",
   "execution_count": 17,
   "metadata": {},
   "outputs": [
    {
     "name": "stdout",
     "output_type": "stream",
     "text": [
      "------------------------------\n",
      "expression = 3 * 2\n",
      "cal.calculate(expression) = 6\n",
      "------------------------------\n",
      "\n",
      "------------------------------\n",
      "expression = 2 ** 3\n",
      "cal.calculate(expression) = 8\n",
      "------------------------------\n",
      "\n",
      "------------------------------\n",
      "expression = 2 + 2\n",
      "cal.calculate(expression) = 4\n",
      "------------------------------\n",
      "\n",
      "integer division or modulo by zero\n"
     ]
    }
   ],
   "source": [
    "import random as rd\n",
    "\n",
    "from tools import say\n",
    "from cal_config import LO, HI, COUNT, OPERATORS\n",
    "from calculator_3 import Calculator   # eval()\n",
    "\n",
    "def compute():\n",
    "    cal = Calculator()\n",
    "    for _ in range(COUNT):\n",
    "        expression = f'{rd.randint(LO, HI+1)} {rd.choice(OPERATORS)} {rd.randint(LO, HI+1)}'\n",
    "        say(expression, cal.calculate(expression))\n",
    "\n",
    "try:\n",
    "    compute()\n",
    "except Exception as e:\n",
    "    print(e)"
   ]
  },
  {
   "cell_type": "markdown",
   "metadata": {},
   "source": [
    "<div style=\"font-family: 'Inconsolata'; font-size: 130%; color: #C5DAEB; line-height: 1.2;\">\n",
    "\n",
    "* A1: 函數是一等公民。\n",
    "</div>"
   ]
  },
  {
   "cell_type": "code",
   "execution_count": 22,
   "metadata": {},
   "outputs": [
    {
     "name": "stdout",
     "output_type": "stream",
     "text": [
      "------------------------------\n",
      "expression = 1 - 3\n",
      "cal.calculate(expression) = -2\n",
      "------------------------------\n",
      "\n",
      "Cannot divide by zero\n"
     ]
    }
   ],
   "source": [
    "import random as rd\n",
    "\n",
    "from tools import say\n",
    "from cal_config import LO, HI, COUNT, OPERATORS\n",
    "from calculator_4 import Calculator   # 函數是一等公民\n",
    "\n",
    "def compute():\n",
    "    cal = Calculator()\n",
    "    for _ in range(COUNT):\n",
    "        expression = f'{rd.randint(LO, HI+1)} {rd.choice(OPERATORS)} {rd.randint(LO, HI+1)}'\n",
    "        say(expression, cal.calculate(expression))\n",
    "\n",
    "try:\n",
    "    compute()\n",
    "except Exception as e:\n",
    "    print(e)"
   ]
  },
  {
   "cell_type": "markdown",
   "metadata": {},
   "source": [
    "<div style=\"font-family: 'Inconsolata'; font-size: 130%; color: #C5DAEB; line-height: 1.2;\">\n",
    "\n",
    "* A2: 女1號 `inspect` module踏出虎度門。\n",
    "* [The inspect module allows for analysis of “live objects”, essentially making it a programmatic way to extract information about currently in scope pieces of python code...](https://medium.com/towards-data-science/pythons-inspect-module-how-to-save-time-and-effort-in-your-next-python-project-8f2d269b8ed)\n",
    "</div>"
   ]
  },
  {
   "cell_type": "code",
   "execution_count": 1,
   "metadata": {},
   "outputs": [
    {
     "name": "stdout",
     "output_type": "stream",
     "text": [
      "------------------------------\n",
      "func.__name__ = add\n",
      "func_info['signature'] = (operand1: int, operand2: int) -> int\n",
      "func_info['doc'] = Add two numbers.\n",
      "------------------------------\n",
      "\n",
      "------------------------------\n",
      "func.__name__ = add\n",
      "func_info['signature'] = (operand1: int, operand2: int) -> int\n",
      "func_info['doc'] = Add two numbers.\n",
      "------------------------------\n",
      "\n",
      "------------------------------\n",
      "expression = 1 + 7\n",
      "cal.calculate(expression) = 8\n",
      "------------------------------\n",
      "\n",
      "------------------------------\n",
      "func.__name__ = subtract\n",
      "func_info['signature'] = (operand1: int, operand2: int) -> int\n",
      "func_info['doc'] = Subtract second number from first.\n",
      "------------------------------\n",
      "\n",
      "------------------------------\n",
      "func.__name__ = subtract\n",
      "func_info['signature'] = (operand1: int, operand2: int) -> int\n",
      "func_info['doc'] = Subtract second number from first.\n",
      "------------------------------\n",
      "\n",
      "------------------------------\n",
      "expression = 1 - 0\n",
      "cal.calculate(expression) = 1\n",
      "------------------------------\n",
      "\n",
      "------------------------------\n",
      "func.__name__ = subtract\n",
      "func_info['signature'] = (operand1: int, operand2: int) -> int\n",
      "func_info['doc'] = Subtract second number from first.\n",
      "------------------------------\n",
      "\n",
      "------------------------------\n",
      "func.__name__ = subtract\n",
      "func_info['signature'] = (operand1: int, operand2: int) -> int\n",
      "func_info['doc'] = Subtract second number from first.\n",
      "------------------------------\n",
      "\n",
      "------------------------------\n",
      "expression = 0 - 10\n",
      "cal.calculate(expression) = -10\n",
      "------------------------------\n",
      "\n",
      "------------------------------\n",
      "func.__name__ = add\n",
      "func_info['signature'] = (operand1: int, operand2: int) -> int\n",
      "func_info['doc'] = Add two numbers.\n",
      "------------------------------\n",
      "\n",
      "------------------------------\n",
      "func.__name__ = add\n",
      "func_info['signature'] = (operand1: int, operand2: int) -> int\n",
      "func_info['doc'] = Add two numbers.\n",
      "------------------------------\n",
      "\n",
      "------------------------------\n",
      "expression = 6 + 0\n",
      "cal.calculate(expression) = 6\n",
      "------------------------------\n",
      "\n",
      "------------------------------\n",
      "func.__name__ = divide\n",
      "func_info['signature'] = (operand1: int, operand2: int) -> float\n",
      "func_info['doc'] = Divide first number by second. Raises ValueError if second number is zero.\n",
      "------------------------------\n",
      "\n",
      "------------------------------\n",
      "func.__name__ = divide\n",
      "func_info['signature'] = (operand1: int, operand2: int) -> float\n",
      "func_info['doc'] = Divide first number by second. Raises ValueError if second number is zero.\n",
      "------------------------------\n",
      "\n",
      "------------------------------\n",
      "expression = 7 / 1\n",
      "cal.calculate(expression) = 7.0\n",
      "------------------------------\n",
      "\n"
     ]
    }
   ],
   "source": [
    "import random as rd\n",
    "\n",
    "from tools import say\n",
    "from cal_config import LO, HI, COUNT, OPERATORS\n",
    "from calculator_5 import Calculator   # `inspect` module\n",
    "\n",
    "def compute():\n",
    "    # Instantiate the ArithmeticOperations class\n",
    "    # arithmetic_operations = ArithmeticOperations()\n",
    "\n",
    "    # Create an instance of the Calculator, passing the ArithmeticOperations instance\n",
    "    calculator = Calculator()\n",
    "\n",
    "    cal = Calculator()\n",
    "    for _ in range(COUNT):\n",
    "        expression = f'{rd.randint(LO, HI+1)} {rd.choice(OPERATORS)} {rd.randint(LO, HI+1)}'\n",
    "        say(expression, cal.calculate(expression))\n",
    "\n",
    "compute()"
   ]
  },
  {
   "cell_type": "code",
   "execution_count": null,
   "metadata": {},
   "outputs": [],
   "source": [
    "import inspect\n",
    "from typing import Callable, Any\n",
    "from tools import say\n",
    "\n",
    "class Calculator:\n",
    "    def __init__(self):\n",
    "        self.operations = self._discover_operations()\n",
    "\n",
    "    def _discover_operations(self) -> dict[str, Callable[[int, int], int]]:\n",
    "        \"\"\"\n",
    "        Dynamically discover and return a dictionary of supported operations.\n",
    "        \"\"\"\n",
    "        operator_map = {\n",
    "            'add': '+',\n",
    "            'subtract': '-',\n",
    "            'multiply': '*',\n",
    "            'divide': '/',\n",
    "        }\n",
    "\n",
    "        operations = {}\n",
    "        for name, func in inspect.getmembers(self, predicate=inspect.ismethod):\n",
    "            say(name, func)\n",
    "            if name in operator_map:\n",
    "                sig = inspect.signature(func)\n",
    "                doc = inspect.getdoc(func)\n",
    "                operations[operator_map[name]] = {\n",
    "                    'function': func,\n",
    "                    'signature': sig,\n",
    "                    'doc': doc\n",
    "                }\n",
    "        say(operations)\n",
    "        return operations\n",
    "\n",
    "    def calculate(self, operator: str, operand1: int, operand2: int) -> int:\n",
    "        \"\"\"\n",
    "        Perform the calculation based on the operator and operands.\n",
    "        \"\"\"\n",
    "        if operator in self.operations:\n",
    "            func_info = self.operations[operator]\n",
    "            func = func_info['function']\n",
    "            print(f\"Using function: {func.__name__}\")\n",
    "            print(f\"Signature: {func_info['signature']}\")\n",
    "            print(f\"Documentation: {func_info['doc']}\")\n",
    "            return func(operand1, operand2)\n",
    "        else:\n",
    "            raise ValueError(f\"Unsupported operator: {operator}\")\n",
    "\n",
    "    def add(self, operand1: int, operand2: int) -> int:\n",
    "        \"\"\"Add two numbers.\"\"\"\n",
    "        return operand1 + operand2\n",
    "\n",
    "    def subtract(self, operand1: int, operand2: int) -> int:\n",
    "        \"\"\"Subtract second number from first.\"\"\"\n",
    "        return operand1 - operand2\n",
    "\n",
    "    def multiply(self, operand1: int, operand2: int) -> int:\n",
    "        \"\"\"Multiply two numbers.\"\"\"\n",
    "        return operand1 * operand2\n",
    "\n",
    "    def divide(self, operand1: int, operand2: int) -> int:\n",
    "        \"\"\"Divide first number by second. Raises ValueError if second number is zero.\"\"\"\n",
    "        if operand2 == 0:\n",
    "            raise ValueError(\"Cannot divide by zero\")\n",
    "        return operand1 / operand2\n",
    "\n",
    "# Example usage\n",
    "if __name__ == \"__main__\":\n",
    "    # Create an instance of the Calculator\n",
    "    calculator = Calculator()\n",
    "\n",
    "    # Example inputs\n",
    "    operator = '/'\n",
    "    operand1 = 10\n",
    "    operand2 = 5\n",
    "\n",
    "    result = calculator.calculate(operator, operand1, operand2)\n",
    "    print(f\"{operand1} {operator} {operand2} = {result}\")\n"
   ]
  },
  {
   "cell_type": "code",
   "execution_count": null,
   "metadata": {},
   "outputs": [],
   "source": [
    "class A:\n",
    "    def instance_method():\n",
    "        ...\n",
    "\n",
    "    @staticmethod\n",
    "    def static_method():\n",
    "        ...\n",
    "\n",
    "func = getattr(A, 'static_method')\n",
    "type(func)\n",
    "isinstance(func, staticmethod)"
   ]
  },
  {
   "cell_type": "code",
   "execution_count": 2,
   "metadata": {},
   "outputs": [
    {
     "name": "stdout",
     "output_type": "stream",
     "text": [
      "[('In', ['', 'import inspect\\n\\nfrom ttt import test\\n\\nprint(inspect.getsource(test))', 'import inspect\\nimport sys\\nfrom ttt import test\\n\\n\\n# 目前module\\ncurrent_module = sys.modules[__name__]\\nprint(inspect.getmembers(current_module))\\n# print(inspect.getsource(test))']), ('Out', {}), ('_', ''), ('__', ''), ('___', ''), ('__builtin__', <module 'builtins' (built-in)>), ('__builtins__', <module 'builtins' (built-in)>), ('__doc__', 'Automatically created module for IPython interactive environment'), ('__loader__', None), ('__name__', '__main__'), ('__package__', None), ('__spec__', None), ('__vsc_ipynb_file__', '/home/alex/Python/inspection/cal_users.ipynb'), ('_dh', [PosixPath('/home/alex/Python/inspection')]), ('_i', 'import inspect\\n\\nfrom ttt import test\\n\\nprint(inspect.getsource(test))'), ('_i1', 'import inspect\\n\\nfrom ttt import test\\n\\nprint(inspect.getsource(test))'), ('_i2', 'import inspect\\nimport sys\\nfrom ttt import test\\n\\n\\n# 目前module\\ncurrent_module = sys.modules[__name__]\\nprint(inspect.getmembers(current_module))\\n# print(inspect.getsource(test))'), ('_ih', ['', 'import inspect\\n\\nfrom ttt import test\\n\\nprint(inspect.getsource(test))', 'import inspect\\nimport sys\\nfrom ttt import test\\n\\n\\n# 目前module\\ncurrent_module = sys.modules[__name__]\\nprint(inspect.getmembers(current_module))\\n# print(inspect.getsource(test))']), ('_ii', ''), ('_iii', ''), ('_oh', {}), ('current_module', <module '__main__'>), ('exit', <IPython.core.autocall.ZMQExitAutocall object at 0x795eb05f7bc0>), ('get_ipython', <bound method InteractiveShell.get_ipython of <ipykernel.zmqshell.ZMQInteractiveShell object at 0x795eb05f4bc0>>), ('inspect', <module 'inspect' from '/usr/lib/python3.12/inspect.py'>), ('open', <function open at 0x795eb1536700>), ('quit', <IPython.core.autocall.ZMQExitAutocall object at 0x795eb05f7bc0>), ('sys', <module 'sys' (built-in)>), ('test', <function test at 0x795eb06131a0>)]\n"
     ]
    }
   ],
   "source": [
    "import inspect\n",
    "import sys\n",
    "from ttt import test\n",
    "\n",
    "\n",
    "# 目前module\n",
    "current_module = sys.modules[__name__]\n",
    "print(inspect.getmembers(current_module))\n",
    "# print(inspect.getsource(test))"
   ]
  }
 ],
 "metadata": {
  "kernelspec": {
   "display_name": "Python 3",
   "language": "python",
   "name": "python3"
  },
  "language_info": {
   "codemirror_mode": {
    "name": "ipython",
    "version": 3
   },
   "file_extension": ".py",
   "mimetype": "text/x-python",
   "name": "python",
   "nbconvert_exporter": "python",
   "pygments_lexer": "ipython3",
   "version": "3.12.4"
  }
 },
 "nbformat": 4,
 "nbformat_minor": 2
}
