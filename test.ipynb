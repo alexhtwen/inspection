{
 "cells": [
  {
   "cell_type": "code",
   "execution_count": 1,
   "metadata": {},
   "outputs": [
    {
     "name": "stdout",
     "output_type": "stream",
     "text": [
      "In ['', \"import inspect\\nimport sys\\n\\ndef foo():\\n    ...\\n\\ndef boo():\\n    ...\\n\\nname = 'Alex'\\nage = 39\\nweight = 69.3\\nis_vegan = False\\nalias = ('老溫', '溫大哥', '朱V')\\nfamily = {'spouse': 'Marrianne', 'children': ['Rebecca', 'Thomas']}\\ncurrent_module = sys.modules[__name__]\\nfor name, obj in inspect.getmembers(current_module):\\n    print(name, obj)\"]\n",
      "Out {}\n",
      "_ \n",
      "__ \n",
      "___ \n",
      "__builtin__ <module 'builtins' (built-in)>\n",
      "__builtins__ <module 'builtins' (built-in)>\n",
      "__doc__ Automatically created module for IPython interactive environment\n",
      "__loader__ None\n",
      "__name__ __main__\n",
      "__package__ None\n",
      "__spec__ None\n",
      "__vsc_ipynb_file__ /home/alex/Python/inspection/test.ipynb\n",
      "_dh [PosixPath('/home/alex/Python/inspection')]\n",
      "_i \n",
      "_i1 import inspect\n",
      "import sys\n",
      "\n",
      "def foo():\n",
      "    ...\n",
      "\n",
      "def boo():\n",
      "    ...\n",
      "\n",
      "name = 'Alex'\n",
      "age = 39\n",
      "weight = 69.3\n",
      "is_vegan = False\n",
      "alias = ('老溫', '溫大哥', '朱V')\n",
      "family = {'spouse': 'Marrianne', 'children': ['Rebecca', 'Thomas']}\n",
      "current_module = sys.modules[__name__]\n",
      "for name, obj in inspect.getmembers(current_module):\n",
      "    print(name, obj)\n",
      "_ih ['', \"import inspect\\nimport sys\\n\\ndef foo():\\n    ...\\n\\ndef boo():\\n    ...\\n\\nname = 'Alex'\\nage = 39\\nweight = 69.3\\nis_vegan = False\\nalias = ('老溫', '溫大哥', '朱V')\\nfamily = {'spouse': 'Marrianne', 'children': ['Rebecca', 'Thomas']}\\ncurrent_module = sys.modules[__name__]\\nfor name, obj in inspect.getmembers(current_module):\\n    print(name, obj)\"]\n",
      "_ii \n",
      "_iii \n",
      "_oh {}\n",
      "age 39\n",
      "alias ('老溫', '溫大哥', '朱V')\n",
      "boo <function boo at 0x7eb5828cfce0>\n",
      "current_module <module '__main__'>\n",
      "exit <IPython.core.autocall.ZMQExitAutocall object at 0x7eb5828b7890>\n",
      "family {'spouse': 'Marrianne', 'children': ['Rebecca', 'Thomas']}\n",
      "foo <function foo at 0x7eb5828cfc40>\n",
      "get_ipython <bound method InteractiveShell.get_ipython of <ipykernel.zmqshell.ZMQInteractiveShell object at 0x7eb5828b4ad0>>\n",
      "inspect <module 'inspect' from '/usr/lib/python3.12/inspect.py'>\n",
      "is_vegan False\n",
      "name Alex\n",
      "open <function open at 0x7eb5838b6700>\n",
      "quit <IPython.core.autocall.ZMQExitAutocall object at 0x7eb5828b7890>\n",
      "sys <module 'sys' (built-in)>\n",
      "weight 69.3\n"
     ]
    }
   ],
   "source": [
    "import inspect\n",
    "import sys\n",
    "\n",
    "def foo():\n",
    "    ...\n",
    "\n",
    "def boo():\n",
    "    ...\n",
    "\n",
    "name = 'Alex'\n",
    "age = 39\n",
    "weight = 69.3\n",
    "is_vegan = False\n",
    "alias = ('老溫', '溫大哥', '朱V')\n",
    "family = {'spouse': 'Marrianne', 'children': ['Rebecca', 'Thomas']}\n",
    "current_module = sys.modules[__name__]\n",
    "for name, obj in inspect.getmembers(current_module):\n",
    "    print(name, obj)"
   ]
  }
 ],
 "metadata": {
  "kernelspec": {
   "display_name": "Python 3",
   "language": "python",
   "name": "python3"
  },
  "language_info": {
   "codemirror_mode": {
    "name": "ipython",
    "version": 3
   },
   "file_extension": ".py",
   "mimetype": "text/x-python",
   "name": "python",
   "nbconvert_exporter": "python",
   "pygments_lexer": "ipython3",
   "version": "3.12.4"
  }
 },
 "nbformat": 4,
 "nbformat_minor": 2
}
