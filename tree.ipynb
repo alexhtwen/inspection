{
 "cells": [
  {
   "cell_type": "code",
   "execution_count": 11,
   "metadata": {},
   "outputs": [
    {
     "name": "stdout",
     "output_type": "stream",
     "text": [
      "count=1         total_age=1,520     average=1,520.00\n",
      "count=2         total_age=1,877     average=938.50\n",
      "count=3         total_age=3,683     average=1,227.67\n"
     ]
    }
   ],
   "source": [
    "class Tree():\n",
    "    count = 0         # 放在constructor外面的是class attributes。\n",
    "    total_age = 0\n",
    "    average_age = 0\n",
    "    def __init__(self, breed: str, age: int):\n",
    "        self.__breed = breed\n",
    "        self.__age = age\n",
    "\n",
    "        Tree.count += 1          # class attributes是用Tree.xxx而非self.xxx\n",
    "        Tree.total_age += self.age\n",
    "        Tree.average_age = round(Tree.total_age / Tree.count, 2)\n",
    "\n",
    "    @property\n",
    "    def breed(self) -> str:\n",
    "        '''The breed property(getter).'''\n",
    "        return self.__breed\n",
    "\n",
    "    @property\n",
    "    def age(self) -> int:\n",
    "        '''The age property(getter).'''\n",
    "        return self.__age\n",
    "\n",
    "\n",
    "def show_count_and_average(count: int, total_age: int):\n",
    "    print(f'{count=:<10,}{total_age=:<10,}average={total_age / count:,.2f}')\n",
    "\n",
    "tree1 = Tree('Cedar', 1_520)\n",
    "\n",
    "# Tree.count和tree1.count指向的是同一塊memory。這裡筆者故意寫作show_count_and_average(Tree.count, tree1.total_age)，其實show_...(Tree.count, Tree.total_age)，show_...(tree1.count, Tree.total_age)，或者show_...(tree1.count, tree1.total_age)都可以。當然最理想的表示式應該是show_count_and_average(Tree.count, Tree.total_age)，明確指出count和total_age這兩個attributes的位階都是class level。\n",
    "show_count_and_average(Tree.count, tree1.total_age)\n",
    "\n",
    "tree2 = Tree('oak', 357)\n",
    "show_count_and_average(tree2.count, Tree.total_age)\n",
    "\n",
    "tree3 = Tree('phoebe', 1806)\n",
    "show_count_and_average(tree1.count, tree1.total_age)"
   ]
  },
  {
   "cell_type": "code",
   "execution_count": 12,
   "metadata": {},
   "outputs": [
    {
     "name": "stdout",
     "output_type": "stream",
     "text": [
      "count=6         total=7,366     average=1,227.67\n",
      "count=6         total=7,366     average=1,227.67\n",
      "count=6         total=7,366     average=1,227.67\n"
     ]
    }
   ],
   "source": [
    "# class Tree():\n",
    "#     __count = 0         # All class attributes are set to private.\n",
    "#     __total_age = 0\n",
    "#     __average_age = 0\n",
    "\n",
    "#     def __init__(self, breed: str, age: int):\n",
    "#         self.__breed = breed\n",
    "#         self.__age = age\n",
    "\n",
    "#         Tree.__count += 1          # class attributes是用Tree.xxx而非self.xxx\n",
    "#         Tree.__total_age += self.age\n",
    "#         Tree.__average_age = round(Tree.__total_age / Tree.__count, 2)\n",
    "\n",
    "#     @property\n",
    "#     def count(cls) -> int:\n",
    "#         '''The __count property(getter).'''\n",
    "#         return cls.__count\n",
    "\n",
    "#     @property\n",
    "#     def total_age(cls) -> int:\n",
    "#         '''The __total_age property(getter).'''\n",
    "#         return cls.__total_age\n",
    "\n",
    "#     @property\n",
    "#     def average_age(cls) -> float:\n",
    "#         '''The __average_age property(getter).'''\n",
    "#         return round(cls.__total_age / cls.__count, 2)\n",
    "\n",
    "#     @property\n",
    "#     def breed(self) -> str:\n",
    "#         '''The breed property(getter).'''\n",
    "#         return self.__breed\n",
    "\n",
    "#     @property\n",
    "#     def age(self) -> int:\n",
    "#         '''The age property(getter).'''\n",
    "#         return self.__age\n",
    "\n",
    "\n",
    "def show_count_and_average(count: int, total: int, average: float):\n",
    "    print(f'{count=:<10,}{total=:<10,}{average=:,.2f}')\n",
    "\n",
    "trees = [Tree('Cedar', 1_520), Tree('oak', 357), Tree('phoebe', 1_806)]\n",
    "\n",
    "for tree in trees:\n",
    "    # 注意：以下三個類別屬性都是用「物件.屬性」方式存取。\n",
    "    # 討論：如果改用「類別.屬性」存取呢？\n",
    "    # show_count_and_average(count=tree.count, total=tree.total_age, average=tree.average_age)\n",
    "\n",
    "    show_count_and_average(count=Tree.count, total=Tree.total_age, average=Tree.average_age)"
   ]
  }
 ],
 "metadata": {
  "kernelspec": {
   "display_name": "Python 3",
   "language": "python",
   "name": "python3"
  },
  "language_info": {
   "codemirror_mode": {
    "name": "ipython",
    "version": 3
   },
   "file_extension": ".py",
   "mimetype": "text/x-python",
   "name": "python",
   "nbconvert_exporter": "python",
   "pygments_lexer": "ipython3",
   "version": "3.12.4"
  }
 },
 "nbformat": 4,
 "nbformat_minor": 2
}
